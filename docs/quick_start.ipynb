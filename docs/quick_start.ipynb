{
  "cells": [
    {
      "cell_type": "code",
      "execution_count": null,
      "metadata": {},
      "outputs": [],
      "source": [
        "# Quickstart demo cell\\n",
        "!python -m agi_core.engine.runner --env tanh --iters 10 --horizon 10 --log-jsonl out/quickstart.jsonl\\n",
        "!python scripts/plot_results.py --logs out/quickstart.jsonl --out out/plots --title \"Quickstart\"\\n",
        "print('Done. Plots in out/plots')\\n"
      ]
    }
  ],
  "metadata": {
    "kernelspec": {
      "display_name": "Python 3",
      "language": "python",
      "name": "python3"
    },
    "language_info": {
      "name": "python",
      "version": "3.11"
    }
  },
  "nbformat": 4,
  "nbformat_minor": 5
}